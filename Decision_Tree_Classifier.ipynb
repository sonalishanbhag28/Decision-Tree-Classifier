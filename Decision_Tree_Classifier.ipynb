{
  "nbformat": 4,
  "nbformat_minor": 0,
  "metadata": {
    "colab": {
      "name": "Decision Tree Classifier",
      "provenance": [],
      "collapsed_sections": []
    },
    "kernelspec": {
      "name": "python3",
      "display_name": "Python 3"
    }
  },
  "cells": [
    {
      "cell_type": "code",
      "metadata": {
        "id": "K9AP8Al8EbNz",
        "colab": {
          "base_uri": "https://localhost:8080/"
        },
        "outputId": "9a841344-6dc3-46f7-a789-34fee9535dbe"
      },
      "source": [
        "from google.colab import drive\n",
        "drive.mount('/content/drive')"
      ],
      "execution_count": null,
      "outputs": [
        {
          "output_type": "stream",
          "name": "stdout",
          "text": [
            "Mounted at /content/drive\n"
          ]
        }
      ]
    },
    {
      "cell_type": "code",
      "metadata": {
        "id": "iQSXkG19wJeQ"
      },
      "source": [
        "#Import the required libraries\n",
        "import pandas as pd\n",
        "import numpy as np\n",
        "from pprint import pprint\n",
        "from sklearn import preprocessing"
      ],
      "execution_count": null,
      "outputs": []
    },
    {
      "cell_type": "code",
      "metadata": {
        "colab": {
          "base_uri": "https://localhost:8080/",
          "height": 206
        },
        "id": "rSShOzr5FIy5",
        "outputId": "5842872d-ab0a-4fa2-89c2-6df97584033d"
      },
      "source": [
        "#Read the dataset\n",
        "dataset = pd.read_csv(\"/content/job-offer-dataset.csv\")\n",
        "dataset.head()"
      ],
      "execution_count": null,
      "outputs": [
        {
          "output_type": "execute_result",
          "data": {
            "text/html": [
              "<div>\n",
              "<style scoped>\n",
              "    .dataframe tbody tr th:only-of-type {\n",
              "        vertical-align: middle;\n",
              "    }\n",
              "\n",
              "    .dataframe tbody tr th {\n",
              "        vertical-align: top;\n",
              "    }\n",
              "\n",
              "    .dataframe thead th {\n",
              "        text-align: right;\n",
              "    }\n",
              "</style>\n",
              "<table border=\"1\" class=\"dataframe\">\n",
              "  <thead>\n",
              "    <tr style=\"text-align: right;\">\n",
              "      <th></th>\n",
              "      <th>Age</th>\n",
              "      <th>Salary</th>\n",
              "      <th>Professional</th>\n",
              "      <th>Computer_Skill</th>\n",
              "      <th>Offer_Job</th>\n",
              "    </tr>\n",
              "  </thead>\n",
              "  <tbody>\n",
              "    <tr>\n",
              "      <th>0</th>\n",
              "      <td>Young</td>\n",
              "      <td>High</td>\n",
              "      <td>No</td>\n",
              "      <td>Fair</td>\n",
              "      <td>No</td>\n",
              "    </tr>\n",
              "    <tr>\n",
              "      <th>1</th>\n",
              "      <td>Young</td>\n",
              "      <td>High</td>\n",
              "      <td>No</td>\n",
              "      <td>Excellent</td>\n",
              "      <td>No</td>\n",
              "    </tr>\n",
              "    <tr>\n",
              "      <th>2</th>\n",
              "      <td>Middle</td>\n",
              "      <td>High</td>\n",
              "      <td>No</td>\n",
              "      <td>Fair</td>\n",
              "      <td>Yes</td>\n",
              "    </tr>\n",
              "    <tr>\n",
              "      <th>3</th>\n",
              "      <td>Old</td>\n",
              "      <td>Medium</td>\n",
              "      <td>No</td>\n",
              "      <td>Fair</td>\n",
              "      <td>Yes</td>\n",
              "    </tr>\n",
              "    <tr>\n",
              "      <th>4</th>\n",
              "      <td>Old</td>\n",
              "      <td>Low</td>\n",
              "      <td>Yes</td>\n",
              "      <td>Fair</td>\n",
              "      <td>Yes</td>\n",
              "    </tr>\n",
              "  </tbody>\n",
              "</table>\n",
              "</div>"
            ],
            "text/plain": [
              "      Age  Salary Professional Computer_Skill Offer_Job\n",
              "0   Young    High           No           Fair        No\n",
              "1   Young    High           No      Excellent        No\n",
              "2  Middle    High           No           Fair       Yes\n",
              "3     Old  Medium           No           Fair       Yes\n",
              "4     Old     Low          Yes           Fair       Yes"
            ]
          },
          "metadata": {},
          "execution_count": 4
        }
      ]
    },
    {
      "cell_type": "code",
      "metadata": {
        "id": "7g1Ff4GkPk8c"
      },
      "source": [
        "#Function to compute Entropy\n",
        "def entropy(col):\n",
        "    categories, count = np.unique(col, return_counts=True)\n",
        "    #calculate the entropy value using the formula\n",
        "    entropy = np.sum([(-count[i]/np.sum(count))*np.log2(count[i]/np.sum(count)) for i in range(len(categories))])\n",
        "    return entropy"
      ],
      "execution_count": null,
      "outputs": []
    },
    {
      "cell_type": "code",
      "metadata": {
        "id": "vHcvqFvTPiwF"
      },
      "source": [
        "#Function to compute Information Gain\n",
        "def infogain(df, split_col, label=\"Offer_Job\"):\n",
        "    #calculate entropy of the entire dataset\n",
        "    total = entropy(df[label])\n",
        "    val, count = np.unique(df[split_col],return_counts=True)\n",
        "    #calculate the weighted entropy\n",
        "    weighted = np.sum([(count[i]/np.sum(count))*entropy(df.where(df[split_col]==val[i]).\n",
        "                                dropna()[label])for i in range(len(val))])\n",
        "    #calculate information gain using the formula\n",
        "    infogain = total-weighted\n",
        "    return infogain"
      ],
      "execution_count": null,
      "outputs": []
    },
    {
      "cell_type": "code",
      "metadata": {
        "id": "gjiyYGdRw3JJ"
      },
      "source": [
        "#Function to build the Decision Tree\n",
        "def BuildDT(df, original, features, label=\"Offer_Job\", parent=None):\n",
        "\n",
        "    #Case 1: All target features have the same value, return the same value\n",
        "    if len(np.unique(df[label])) <= 1:\n",
        "        return np.unique(df[label])[0]\n",
        "      \n",
        "    #Case 2: Dataset is empty\n",
        "    elif len(df) == 0:\n",
        "        return np.unique(original[label])[np.argmax(np.unique(original[label], return_counts=True)[1])]\n",
        "    \n",
        "    #Case 3: Feature space is empty\n",
        "    elif len(features) == 0:\n",
        "        return parent \n",
        "\n",
        "    #Case 4: Start building the decision tree\n",
        "    else:\n",
        "        parent = np.unique(df[label])[np.argmax(np.unique(df[label],return_counts=True)[1])]\n",
        "    \n",
        "    #Select best split feature for the dataset\n",
        "    item_values = [infogain(df,feature,label)for feature in features] \n",
        "    best_feature_index = np.argmax(item_values)\n",
        "    best_feature = features[best_feature_index]\n",
        "\n",
        "    #Define the structure of the tree\n",
        "    tree = {best_feature:{}}\n",
        "\n",
        "    #Remove the feature with highest information gain\n",
        "    features = [i for i in features if i!= best_feature]\n",
        "    for value in np.unique(df[best_feature]):\n",
        "        value = value\n",
        "        sub_data = df.where(df[best_feature]==value).dropna()\n",
        "        #Recursive call to BuildDT()\n",
        "        subtree = BuildDT(sub_data,dataset,features,label,parent)\n",
        "        #Add the sub-tree\n",
        "        tree[best_feature][value] = subtree\n",
        "    return(tree)"
      ],
      "execution_count": null,
      "outputs": []
    },
    {
      "cell_type": "code",
      "metadata": {
        "id": "mOW8jV7Uc8xp"
      },
      "source": [
        "#Function to output the classification result of unlabelled data\n",
        "def ClassifyInstance(input_data, tree, default=1):\n",
        "  for key in list(input_data.keys()):\n",
        "    if key in list(tree.keys()):\n",
        "      try:\n",
        "        pred = tree[key][input_data[key]]\n",
        "      except:\n",
        "        return default\n",
        "      pred = tree[key][input_data[key]]\n",
        "\n",
        "      if isinstance(pred,dict):\n",
        "          return predict(input_data,pred)\n",
        "      else:\n",
        "          return pred"
      ],
      "execution_count": null,
      "outputs": []
    },
    {
      "cell_type": "code",
      "metadata": {
        "colab": {
          "base_uri": "https://localhost:8080/"
        },
        "id": "PBYGHLC4dAsg",
        "outputId": "505c9bf0-126c-41fc-b271-cd3d9500e9d2"
      },
      "source": [
        "#Function call for BuildDT()\n",
        "features = dataset.columns[:-1] #taking only the independent variables\n",
        "decision_tree = BuildDT(dataset, dataset, features)\n",
        "pprint(decision_tree)"
      ],
      "execution_count": null,
      "outputs": [
        {
          "output_type": "stream",
          "name": "stdout",
          "text": [
            "{'Age': {'Middle': 'Yes',\n",
            "         'Old': {'Computer_Skill': {'Excellent': 'No', 'Fair': 'Yes'}},\n",
            "         'Young': {'Professional': {'No': 'No', 'Yes': 'Yes'}}}}\n"
          ]
        }
      ]
    },
    {
      "cell_type": "code",
      "metadata": {
        "colab": {
          "base_uri": "https://localhost:8080/"
        },
        "id": "kDxu04pkPHml",
        "outputId": "9a26488d-3707-4a17-a666-a9d8c0c98120"
      },
      "source": [
        "#Function call for ClassifyInstance()\n",
        "data = {'Age': 'Young', 'Salary': 'High', 'Professional': 'No', 'Computer_Skill': 'Fair'}\n",
        "print(\"Input: \",data)\n",
        "print(\"Offer_Job: \", ClassifyInstance(data, decision_tree))"
      ],
      "execution_count": null,
      "outputs": [
        {
          "output_type": "stream",
          "name": "stdout",
          "text": [
            "Input:  {'Age': 'Young', 'Salary': 'High', 'Professional': 'No', 'Computer_Skill': 'Fair'}\n",
            "Offer_Job:  No\n"
          ]
        }
      ]
    }
  ]
}